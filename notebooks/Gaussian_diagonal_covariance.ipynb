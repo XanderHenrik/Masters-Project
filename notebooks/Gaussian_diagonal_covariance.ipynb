{
 "cells": [
  {
   "cell_type": "markdown",
   "id": "635fc1f5",
   "metadata": {},
   "source": [
    "# Gaussian diagonal covariance\n",
    "\n",
    "Here we figure out the Gaussian diagonal covariance and try to code this ourselves.\n",
    "Look at\n",
    "- Gaussian covariance for the $C_{l}$'s; (Dodelson, example 12.1; section 14.2)\n",
    "- Different noise types\n",
    "- Expressions for the different types of probes\n",
    "- Wick's theorem\n",
    "\n",
    "*Guess:*\n",
    "1. Gaussian diagonal covariance describes an striclty auto-correlated parameter space. This is expressed in a diagonal covariance matrix, in which the variance in each parameter is Gaussian. The fact that the covariance matrix is diagonal means that any cross-correlations are disregarded. Thus, the parameters panning parameter space are *univariant* in auto-correlations and invariant in cross-correlations.\n",
    "\n",
    "Look at sources:\n",
    "- **[Section 2.5: Johnston, H., Chisari, N. E., Joudaki, S., Reischke, R., Stölzner, B., Loureiro, A., ... & Zhang, Y. H. (2024). 6x2pt: Forecasting gains from joint weak lensing and galaxy clustering analyses with spectroscopic-photometric galaxy cross-correlations. arXiv preprint arXiv:2409.17377](https://arxiv.org/abs/2409.17377)**\n",
    "- **[Later chapters of: Modern Cosmology; S. Dodelson, F. Schmidt](https://books.google.se/books?hl=nl&lr=&id=TpUmEQAAQBAJ&oi=fnd&pg=PP1&dq=modern+cosmology+dodelson&ots=BBo0fsLhcW&sig=KC-2ksaqhpjJvRv05wjpd2nS8Lg&redir_esc=y#v=onepage&q=modern%20cosmology%20dodelson&f=false)**\n"
   ]
  },
  {
   "cell_type": "code",
   "execution_count": 25,
   "id": "7438087f",
   "metadata": {},
   "outputs": [],
   "source": [
    "# The required imports:\n",
    "\n",
    "import numpy as np\n",
    "import pyccl as ccl\n",
    "import pylab as plt\n",
    "import math\n",
    "import glass.observations\n",
    "%matplotlib inline"
   ]
  },
  {
   "cell_type": "markdown",
   "id": "72a1d8f8",
   "metadata": {},
   "source": [
    "## Analytical expression:\n",
    "We can write down the analytical expression for the Gaussian covariance through:\n",
    "$Z = Cov\\left[\\hat{C}^{ij}(\\ell)\\hat{C}^{mn}(\\ell')\\right]$, with:\n",
    "$$Cov\\left[\\hat{C}^{ij}(\\ell)\\hat{C}^{mn}(\\ell')\\right] = \\frac{\\delta_{\\ell\\ell'}^{K}}{f_{sky}N_{\\ell}}\\left(\\hat{C}^{im}(\\ell)\\hat{C}^{jn}(\\ell') + \\hat{C}^{in}(\\ell)\\hat{C}^{jm}(\\ell')\\right)$$\n",
    "\n",
    "where $4\\pi f_{sky} = A_{survey}$ the fraction of the sky considered in the survey, $\\delta_{\\ell\\ell'}^{K}$ is the K-dimensional Dirac delta which ensures that the multipole moments ($\\ell$) are independent. In this expression we must note that $\\hat{C}^{ij}(\\ell)$ is the observed angular power spectrum. This means that it contains both the signal $\\left(S^{ij}(\\ell)\\right)$ and the noise $\\left(N^{ij}\\right)$:\n",
    "$$\\hat{C}^{ij}(\\ell) = S^{ij}(\\ell) + N^{ij}$$\n",
    "\n",
    "More specifically,\n",
    "$$\n",
    "\\hat{C}^{ij} (\\ell) = \\begin{cases}\n",
    "S^{ij} (\\ell) + N_{source}^{ij}, & \\text{if $i \\wedge j \\in$ source}.\\\\\n",
    "S^{ij} (\\ell) + N_{lens}^{ij}, & \\text{if $i \\wedge j \\in$ lens}.\\\\\n",
    "S^{ij} (\\ell), & \\text{else}\n",
    "\\end{cases}\n",
    "$$\n",
    "\n",
    "Where the noise differs for the case of galaxy clustering, weak lensing or CMB lensing. Note also that the noise only occurs for the auto-correlations (e.g. the diagonal of the covariance). \n",
    "\n",
    "Note: For CMB lensing, we make use of the noise as defined by Planck, stowed away in the file 'cmb_noise_Planck.txt' which we read in and use when needed."
   ]
  },
  {
   "cell_type": "code",
   "execution_count": 26,
   "id": "60dcce1c",
   "metadata": {},
   "outputs": [
    {
     "name": "stdout",
     "output_type": "stream",
     "text": [
      "A (7, 7) matrix, which contains the following:\n",
      " [[3.96825397e-03 7.93650794e-03 2.22222222e-01 2.77777778e-02\n",
      "  3.57142857e-02 7.93650794e-03 2.77777778e-02]\n",
      " [2.43546030e-04 4.87092060e-04 1.36385777e-02 1.70482221e-03\n",
      "  2.19191427e-03 4.87092060e-04 1.70482221e-03]\n",
      " [3.46277517e-03 6.92555033e-03 1.93915409e-01 2.42394262e-02\n",
      "  3.11649765e-02 6.92555033e-03 2.42394262e-02]\n",
      " [2.90071275e-04 5.80142549e-04 1.62439914e-02 2.03049892e-03\n",
      "  2.61064147e-03 5.80142549e-04 2.03049892e-03]\n",
      " [2.80443724e-04 5.60887449e-04 1.57048486e-02 1.96310607e-03\n",
      "  2.52399352e-03 5.60887449e-04 1.96310607e-03]\n",
      " [4.99350844e-05 9.98701688e-05 2.79636473e-03 3.49545591e-04\n",
      "  4.49415760e-04 9.98701688e-05 3.49545591e-04]\n",
      " [1.45796884e-04 2.91593768e-04 8.16462551e-03 1.02057819e-03\n",
      "  1.31217196e-03 2.91593768e-04 1.02057819e-03]]\n"
     ]
    }
   ],
   "source": [
    "# Now we define a function that gives us the Gaussian coavariance based on the probe, the corresponding noise and surveysurface on the observed sky,\n",
    "# a redshift distribution, bins and their binwidth.\n",
    "\n",
    "def Gauss_cov(l, ang_power_spectrum, noise, f_sky, redshift_dist=None, bins=None, cross=False):\n",
    "    # We calculate the Gaussia covariance based on the true-model tracer. The angular power spectrum that represents LCDM\n",
    "    cov = np.zeros(shape=(len(ang_power_spectrum), len(ang_power_spectrum)))\n",
    "    \n",
    "    # We separate the cases of auto and cross-correlations:\n",
    "    if cross == False:\n",
    "        \n",
    "        # Now we need to take into account the noise acompanying the angular power spectrum\n",
    "        for i in range(len(l)):\n",
    "            for j in range(len(l)):\n",
    "\n",
    "                # For the diagonal elements, we compute auto correlations of the same probes, thus we includer the noise terms. Assume\n",
    "                if i == j:\n",
    "                    cov[i, j] = 1/(f_sky * (2 * l[i] + 1)) * (ang_power_spectrum[i] * ang_power_spectrum[i] + ang_power_spectrum[i] * ang_power_spectrum[i] + noise[i] * ang_power_spectrum[i] + ang_power_spectrum[i] * noise[i])\n",
    "                \n",
    "                # For the non-diagonal elements:\n",
    "                else:\n",
    "                    cov[i, j] = 1/(f_sky * (2 * l[i] + 1)) * (ang_power_spectrum[i] * ang_power_spectrum[i] + ang_power_spectrum[i] * ang_power_spectrum[i])\n",
    "    \n",
    "    # Now for the cross-correlations:\n",
    "    else:\n",
    "        for i in range(len(l)):\n",
    "            for j in range(len(l)):\n",
    "                cov[i, j] = 1/(f_sky * (2 * l[i] + 1)) * (ang_power_spectrum[i] * ang_power_spectrum[j])\n",
    "    \n",
    "    return cov\n",
    "\n",
    "tracer = np.array([1, 2, 56, 7, 9, 2, 7])\n",
    "noise = np.zeros_like(tracer)\n",
    "l = np.linspace(10, 2000, len(tracer))\n",
    "\n",
    "print(\"A\", Gauss_cov(l, tracer, noise, 12, cross=True).shape, \"matrix, which contains the following:\\n\", Gauss_cov(l, tracer, noise, 12, cross=True))"
   ]
  },
  {
   "cell_type": "markdown",
   "id": "455a2e7b",
   "metadata": {},
   "source": [
    "## Generate the angular power spectra\n",
    "To generate these we first get "
   ]
  },
  {
   "cell_type": "code",
   "execution_count": 29,
   "id": "35950ca6",
   "metadata": {},
   "outputs": [],
   "source": [
    "# We define the cosmology:\n",
    "lcdm_cosmo = ccl.Cosmology(Omega_c=0.27, Omega_b=0.045, h=0.67, A_s=2.1e-9, n_s=0.96)\n",
    "\n",
    "# Alternate neutrino cosmology:\n",
    "neutrino_cosmo = ccl.Cosmology(Omega_c=0.27, Omega_b=0.045, h=0.67, A_s=2.1e-9, n_s=0.96, m_nu=0.12, mass_split='normal')\n",
    "zero_mm_cosmo = ccl.Cosmology(Omega_c=0.27, Omega_b=0.045, h=0.67, A_s=2.1e-9, n_s=0.96, m_nu=[0, 0.06, 0.06])\n",
    "\n",
    "# The specifics of the angular power spectra:\n",
    "l = np.linspace(2, 2000, 1000) # multipole moments\n",
    "z = np.linspace(0, 3, 1000) # redshifts\n",
    "a = (1./(1+z))[::-1]\n",
    "\n",
    "# Redshoft distribution:\n",
    "nz = np.exp(-((z-0.5)/0.05)**2/2)\n",
    "\n",
    "# Biases:\n",
    "bias = 0.95/ccl.growth_factor(lcdm_cosmo, a) # bias\n",
    "m_bias = np.ones_like(z) # Magnification bias\n",
    "i_a = -0.004 * np.ones_like(z) # Intrinsic alignment amplitude"
   ]
  },
  {
   "cell_type": "markdown",
   "id": "88b85373",
   "metadata": {},
   "source": [
    "### Binning:\n",
    "Define the spectroscopic and photometric bins"
   ]
  },
  {
   "cell_type": "code",
   "execution_count": 34,
   "id": "328a4f2b",
   "metadata": {},
   "outputs": [],
   "source": [
    "# We define the photometric and spectra through the following:\n",
    "\n",
    "# Photometric:\n",
    "n_bar = 0.3 # Assume a galaxy density and accompanying reshift distribution:\n",
    "dndz = glass.observations.smail_nz(z, z_mode=0.9, alpha=2., beta=1.5)\n",
    "dndz *= n_bar\n",
    "zbins = glass.observations.equal_dens_zbins(z, dndz, nbins=6)\n",
    "phot_tomo_bins = glass.observations.tomo_nz_gausserr(z, dndz, 0.03, zbins) # Where the bin error is 0.03\n",
    "\n",
    "# Spectroscopic:\n",
    "spec_z = (np.heaviside(z - 0.9, 1) - np.heaviside(z - 0.8, 1)) * dndz\n",
    "spec_zbins = glass.observations.fixed_zbins(zmin=0.9, zmax=1.8, dz=0.05)\n",
    "spec_tomo_bins = glass.observations.tomo_nz_gausserr(z, spec_z, 0.0003, spec_zbins)"
   ]
  },
  {
   "cell_type": "markdown",
   "id": "b82dd859",
   "metadata": {},
   "source": [
    "### Defining the tracers and angular power spectra themselves:"
   ]
  },
  {
   "cell_type": "code",
   "execution_count": 38,
   "id": "7f25007e",
   "metadata": {},
   "outputs": [],
   "source": [
    "# Define an empty dictionary for the tracers:\n",
    "tracers = {}\n",
    "\n",
    "# Define the tracers:\n",
    "photo_clus = {i: ccl.NumberCountsTracer(lcdm_cosmo, dndz=(z, phot_tomo_bins[i]), bias=(z, bias), mag_bias=(z, m_bias), has_rsd=True) for i in range(len(phot_tomo_bins))}\n",
    "spec_clus = {i: ccl.NumberCountsTracer(lcdm_cosmo, dndz=(z, spec_tomo_bins[i]), bias=(z, bias), mag_bias=(z, m_bias), has_rsd=True) for i in range(len(spec_tomo_bins))}\n",
    "wl = {i: ccl.WeakLensingTracer(lcdm_cosmo, dndz=(z, phot_tomo_bins[i]), has_shear=True) for i in range(len(phot_tomo_bins))}\n",
    "cmb_l = ccl.CMBLensingTracer(lcdm_cosmo, z_source=1100.)"
   ]
  }
 ],
 "metadata": {
  "kernelspec": {
   "display_name": "new_cclenv",
   "language": "python",
   "name": "python3"
  },
  "language_info": {
   "codemirror_mode": {
    "name": "ipython",
    "version": 3
   },
   "file_extension": ".py",
   "mimetype": "text/x-python",
   "name": "python",
   "nbconvert_exporter": "python",
   "pygments_lexer": "ipython3",
   "version": "3.12.2"
  }
 },
 "nbformat": 4,
 "nbformat_minor": 5
}
