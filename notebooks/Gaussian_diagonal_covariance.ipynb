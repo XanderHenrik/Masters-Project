{
 "cells": [
  {
   "cell_type": "markdown",
   "id": "635fc1f5",
   "metadata": {},
   "source": [
    "# Gaussian diagonal covariance\n",
    "\n",
    "Here we figure out the Gaussian diagonal covariance and try to code this ourselves.\n",
    "Look at\n",
    "- Gaussian covariance for the $C_{l}$'s\n",
    "- Different noise types\n",
    "- Expressions for the different types of probes\n",
    "\n",
    "*Guess:*\n",
    "1. Gaussian diagonal covariance describes an striclty auto-correlated parameter space. This is expressed in a diagonal covariance matrix, in which the variance in each parameter is Gaussian. The fact that the covariance matrix is diagonal means that any cross-correlations are disregarded. Thus, the parameters panning parameter space are *univariant* in auto-correlations and invariant in cross-correlations.\n",
    "\n",
    "Look at sources:\n",
    "- **[Section 2.5: Johnston, H., Chisari, N. E., Joudaki, S., Reischke, R., Stölzner, B., Loureiro, A., ... & Zhang, Y. H. (2024). 6x2pt: Forecasting gains from joint weak lensing and galaxy clustering analyses with spectroscopic-photometric galaxy cross-correlations. arXiv preprint arXiv:2409.17377](https://arxiv.org/abs/2409.17377)**\n",
    "- **[Later chapters of: Modern Cosmology; S. Dodelson, F. Schmidt](https://books.google.se/books?hl=nl&lr=&id=TpUmEQAAQBAJ&oi=fnd&pg=PP1&dq=modern+cosmology+dodelson&ots=BBo0fsLhcW&sig=KC-2ksaqhpjJvRv05wjpd2nS8Lg&redir_esc=y#v=onepage&q=modern%20cosmology%20dodelson&f=false)**\n"
   ]
  }
 ],
 "metadata": {
  "language_info": {
   "name": "python"
  }
 },
 "nbformat": 4,
 "nbformat_minor": 5
}
