{
 "cells": [
  {
   "cell_type": "markdown",
   "metadata": {},
   "source": [
    "## CCL primeur\n",
    "First try on installing CCL and running suggested testcode from github"
   ]
  },
  {
   "cell_type": "code",
   "execution_count": 1,
   "metadata": {},
   "outputs": [
    {
     "ename": "ModuleNotFoundError",
     "evalue": "No module named 'pyccl'",
     "output_type": "error",
     "traceback": [
      "\u001b[1;31m---------------------------------------------------------------------------\u001b[0m",
      "\u001b[1;31mModuleNotFoundError\u001b[0m                       Traceback (most recent call last)",
      "Cell \u001b[1;32mIn[1], line 1\u001b[0m\n\u001b[1;32m----> 1\u001b[0m \u001b[38;5;28;01mimport\u001b[39;00m \u001b[38;5;21;01mpyccl\u001b[39;00m \u001b[38;5;28;01mas\u001b[39;00m \u001b[38;5;21;01mccl\u001b[39;00m\n\u001b[0;32m      2\u001b[0m \u001b[38;5;28;01mimport\u001b[39;00m \u001b[38;5;21;01mnumpy\u001b[39;00m \u001b[38;5;28;01mas\u001b[39;00m \u001b[38;5;21;01mnp\u001b[39;00m\n\u001b[0;32m      4\u001b[0m \u001b[38;5;66;03m# Create new Cosmology object with a given set of parameters. This keeps track\u001b[39;00m\n\u001b[0;32m      5\u001b[0m \u001b[38;5;66;03m# of previously-computed cosmological functions\u001b[39;00m\n",
      "\u001b[1;31mModuleNotFoundError\u001b[0m: No module named 'pyccl'"
     ]
    }
   ],
   "source": [
    "import pyccl as ccl\n",
    "import numpy as np\n",
    "\n",
    "# Create new Cosmology object with a given set of parameters. This keeps track\n",
    "# of previously-computed cosmological functions\n",
    "cosmo = ccl.Cosmology(\n",
    "    Omega_c=0.27, Omega_b=0.045, h=0.67, sigma8=0.8, n_s=0.96,\n",
    "    transfer_function='bbks')\n",
    "\n",
    "# Define a simple binned galaxy number density curve as a function of redshift\n",
    "z_n = np.linspace(0., 1., 500)\n",
    "n = np.ones(z_n.shape)\n",
    "\n",
    "# Create objects to represent tracers of the weak lensing signal with this\n",
    "# number density (with has_intrinsic_alignment=False)\n",
    "lens1 = ccl.WeakLensingTracer(cosmo, dndz=(z_n, n))\n",
    "lens2 = ccl.WeakLensingTracer(cosmo, dndz=(z_n, n))\n",
    "\n",
    "# Calculate the angular cross-spectrum of the two tracers as a function of ell\n",
    "ell = np.arange(2, 10)\n",
    "cls = cosmo.angular_cl(lens1, lens2, ell)\n",
    "print(cls)"
   ]
  }
 ],
 "metadata": {
  "kernelspec": {
   "display_name": "ccl",
   "language": "python",
   "name": "python3"
  },
  "language_info": {
   "codemirror_mode": {
    "name": "ipython",
    "version": 3
   },
   "file_extension": ".py",
   "mimetype": "text/x-python",
   "name": "python",
   "nbconvert_exporter": "python",
   "pygments_lexer": "ipython3",
   "version": "3.13.2"
  }
 },
 "nbformat": 4,
 "nbformat_minor": 2
}
