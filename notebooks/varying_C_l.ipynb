{
 "cells": [
  {
   "cell_type": "markdown",
   "id": "db03b5a5",
   "metadata": {},
   "source": [
    "# Angular power spectra\n",
    "Now that we have taken a look at the theoretical matter power spectrum, we turn to the angular power spectra which we can relate to the actual observations of the CMB"
   ]
  },
  {
   "cell_type": "code",
   "execution_count": 1,
   "id": "3d56b166",
   "metadata": {},
   "outputs": [],
   "source": [
    "import numpy as np\n",
    "import pyccl as ccl\n",
    "import pylab as plt\n",
    "import math\n",
    "%matplotlib inline"
   ]
  },
  {
   "cell_type": "code",
   "execution_count": 2,
   "id": "a0bf6b1f",
   "metadata": {},
   "outputs": [
    {
     "name": "stdout",
     "output_type": "stream",
     "text": [
      "<pyccl.cosmology.Cosmology>\n",
      "\tA_s     = 2.1e-09\n",
      "\tNeff    = 3.044\n",
      "\tOmega_b = 0.045\n",
      "\tOmega_c = 0.27\n",
      "\th       = 0.67\n",
      "\tn_s     = 0.96\n",
      "\textra_parameters =\n",
      "\tHASH_ACCURACY_PARAMS = 0x11309a43332d80fd \n",
      " <pyccl.cosmology.Cosmology>\n",
      "\tA_s     = 2.1e-09\n",
      "\tNeff    = 3.044\n",
      "\tOmega_b = 0.045\n",
      "\tOmega_c = 0.27\n",
      "\th       = 0.67\n",
      "\tn_s     = 0.96\n",
      "\ttransfer_function = boltzmann_class\n",
      "\textra_parameters =\n",
      "\tHASH_ACCURACY_PARAMS = 0x11309a43332d80fd\n"
     ]
    }
   ],
   "source": [
    "# We define the cosmology from which we obtain the angular power spectra:\n",
    "cosmo = ccl.Cosmology(Omega_c=0.27, Omega_b=0.045, h=0.67, A_s=2.1e-9, n_s=0.96)\n",
    "\n",
    "# Compare this to the cosmology we get using the 'boltzmann_class' transfer function:\n",
    "cosmo_class = ccl.Cosmology(Omega_c=0.27, Omega_b=0.045, h=0.67, A_s=2.1e-9, n_s=0.96, \n",
    "                            transfer_function='boltzmann_class')\n",
    "print(cosmo, \"\\n\", cosmo_class)"
   ]
  }
 ],
 "metadata": {
  "kernelspec": {
   "display_name": "new_cclenv",
   "language": "python",
   "name": "python3"
  },
  "language_info": {
   "codemirror_mode": {
    "name": "ipython",
    "version": 3
   },
   "file_extension": ".py",
   "mimetype": "text/x-python",
   "name": "python",
   "nbconvert_exporter": "python",
   "pygments_lexer": "ipython3",
   "version": "3.12.2"
  }
 },
 "nbformat": 4,
 "nbformat_minor": 5
}
